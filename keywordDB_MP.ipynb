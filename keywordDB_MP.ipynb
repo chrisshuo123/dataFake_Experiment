{
 "cells": [
  {
   "cell_type": "markdown",
   "id": "9415dd88",
   "metadata": {},
   "source": [
    "NOTE!! Seluruh data dibawah ini adalah Fake Data Generator dengan tujuan menggenerate simulasi Data bagi Portfolio di MySQL DB. Jangan gunakan data generator untuk Penipuan atau hal lainnya yang tidak baik, mohon pengertiannya, sekian terimakasih."
   ]
  },
  {
   "cell_type": "markdown",
   "id": "5f0b7a67",
   "metadata": {},
   "source": [
    "## 1 - Kelompok Profil"
   ]
  },
  {
   "cell_type": "markdown",
   "id": "48bfcdab",
   "metadata": {},
   "source": [
    "#### 1. Table Profile"
   ]
  },
  {
   "cell_type": "markdown",
   "id": "666112bb",
   "metadata": {},
   "source": [
    "#### 2. Table Nama Toko MP"
   ]
  },
  {
   "cell_type": "markdown",
   "id": "f2c1fb40",
   "metadata": {},
   "source": [
    "## 2 - Kelopok Laporan"
   ]
  },
  {
   "cell_type": "markdown",
   "id": "3b6ba6ab",
   "metadata": {},
   "source": [
    "#### 1. Table Laporan"
   ]
  },
  {
   "cell_type": "markdown",
   "id": "4454efc2",
   "metadata": {},
   "source": [
    "#### 2. Table Periode"
   ]
  },
  {
   "cell_type": "markdown",
   "id": "f318a870",
   "metadata": {},
   "source": [
    "#### 3. Table List MP"
   ]
  },
  {
   "cell_type": "markdown",
   "id": "caf8231f",
   "metadata": {},
   "source": [
    "#### 4. Laporan_MP (M:N)"
   ]
  },
  {
   "cell_type": "markdown",
   "id": "1498318b",
   "metadata": {},
   "source": [
    "## 3 - Kelompok Iklan Tokped"
   ]
  },
  {
   "cell_type": "markdown",
   "id": "70cedaaa",
   "metadata": {},
   "source": [
    "Sekumpulan Tabel dari Hasil Laporan Iklan Tokopedia"
   ]
  },
  {
   "cell_type": "markdown",
   "id": "d72a02ca",
   "metadata": {},
   "source": [
    "\n",
    "## 4 - Kelompok Iklan Shopee"
   ]
  },
  {
   "cell_type": "markdown",
   "id": "dbeba8a6",
   "metadata": {},
   "source": [
    "Sekumpulan Tabel dari Hasil Laporan Iklan Shopee"
   ]
  }
 ],
 "metadata": {
  "language_info": {
   "name": "python"
  }
 },
 "nbformat": 4,
 "nbformat_minor": 5
}
