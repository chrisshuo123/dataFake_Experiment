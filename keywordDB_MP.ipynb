{
 "cells": [
  {
   "cell_type": "markdown",
   "id": "9415dd88",
   "metadata": {},
   "source": [
    "NOTE!! Seluruh data dibawah ini adalah Fake Data Generator dengan tujuan menggenerate simulasi Data bagi Portfolio di MySQL DB. Jangan gunakan data generator untuk Penipuan atau hal lainnya yang tidak baik, mohon pengertiannya, sekian terimakasih."
   ]
  },
  {
   "cell_type": "markdown",
   "id": "5f0b7a67",
   "metadata": {},
   "source": [
    "## 1 - Kelompok Profil"
   ]
  },
  {
   "cell_type": "markdown",
   "id": "48bfcdab",
   "metadata": {},
   "source": [
    "#### 1. Table Profile"
   ]
  },
  {
   "cell_type": "markdown",
   "id": "666112bb",
   "metadata": {},
   "source": [
    "#### 2. Table Nama Toko MP"
   ]
  },
  {
   "cell_type": "markdown",
   "id": "f2c1fb40",
   "metadata": {},
   "source": [
    "## 2 - Kelopok Laporan"
   ]
  },
  {
   "cell_type": "markdown",
   "id": "3b6ba6ab",
   "metadata": {},
   "source": [
    "#### 1. Table Laporan"
   ]
  },
  {
   "cell_type": "markdown",
   "id": "4454efc2",
   "metadata": {},
   "source": [
    "#### 2. Table Periode"
   ]
  },
  {
   "cell_type": "markdown",
   "id": "f318a870",
   "metadata": {},
   "source": [
    "#### 3. Table List MP"
   ]
  },
  {
   "cell_type": "markdown",
   "id": "caf8231f",
   "metadata": {},
   "source": [
    "#### 4. Laporan_MP (M:N)"
   ]
  },
  {
   "cell_type": "markdown",
   "id": "1498318b",
   "metadata": {},
   "source": [
    "## 3 - Kelompok Iklan Platform A"
   ]
  },
  {
   "cell_type": "markdown",
   "id": "70cedaaa",
   "metadata": {},
   "source": [
    "Sekumpulan Tabel dari Hasil Laporan Iklan Platform A"
   ]
  },
  {
   "cell_type": "code",
   "execution_count": null,
   "id": "c6e751f6",
   "metadata": {},
   "outputs": [
    {
     "name": "stdout",
     "output_type": "stream",
     "text": [
      "d:\\4 - Masterclass Collections (udemy, seminar, dkk)\\34_dataFaking_plugins_github\\2_mimesis\\mimesis_experiment\n",
      "✅ CSV file 'hasil_laporan_iklan_platform_a_table.csv' has been created successfully!\n"
     ]
    }
   ],
   "source": [
    "import csv\n",
    "import random\n",
    "import os\n",
    "from mimesis import Generic\n",
    "from mimesis import BaseProvider\n",
    "from mimesis.locales import Locale\n",
    "g = Generic(locale=Locale.EN)\n",
    "\n",
    "# Open a CSV file for writing\n",
    "with open('csv_forSQLTable/1_hasil_laporan_iklan_platform_a_table.csv', mode='w', newline='', encoding='utf-8') as file:\n",
    "    writer = csv.writer(file)\n",
    "    \n",
    "    # Write header row\n",
    "    #writer.writerow(['No', 'Product Group', 'Product Name', 'Product Keyword', 'Income', 'Outcome', 'Ads Effectiveness in Total', 'Ads Effectiveness', 'Performance', 'Show on Top Page', 'View', 'Click', 'Click Percentage', 'Sold', 'Total Sold', 'Percentage Sold', 'Average'])\n",
    "    writer.writerow(['No', 'namaGrup', 'namaProduk', 'pengeluaran', 'pendapatan', 'totalEfektivitasIklan', 'efektivitasIklan', 'performaTampil', 'tampilTeratas', 'tampil', 'klik', 'persentaseKlik', 'terjual', 'totTerjual', 'persentaseTerjual', 'rataRata'])\n",
    "\n",
    "    for i in range(1, 120):\n",
    "        # To Generate Random Strings\n",
    "        # 1. Product Group\n",
    "        # 2. Product Name\n",
    "        # 3. Keywords\n",
    "        product_category = ['dish', 'drink', 'fruit', 'spices', 'vegetable']\n",
    "        product_category = g.random.choice(product_category)\n",
    "\n",
    "        if product_category == 'dish':\n",
    "            product_name = g.food.dish()\n",
    "            dish_random = [f'Delicious {product_name}', f'Home made {product_name} dishes', f'{product_name} that makes Hungry']\n",
    "            product_keyword = g.random.choice(dish_random)\n",
    "        elif product_category == 'drink':\n",
    "            product_name = g.food.drink()\n",
    "            drink_random = [f'{product_name} for rehydration', f'Fresh and Cold {product_name}', f'Refreshingly {product_name} drink']\n",
    "            product_keyword = g.random.choice(drink_random)\n",
    "        elif product_category == 'fruit':\n",
    "            product_name = g.food.fruit()\n",
    "            fruit_random = [f'{product_name} moodbooster', f'Colorful and healthy {product_name}', f'{product_name} that refreshes your mind']\n",
    "            product_keyword = g.random.choice(fruit_random)\n",
    "        elif product_category == 'spices':\n",
    "            product_name = g.food.spices()\n",
    "            spices_random = [f'Colourful {product_name} spice', f'{product_name} flavoring', f'Family Recommend {product_name}', f'Hot and Spicy {product_name}']\n",
    "            product_keyword = g.random.choice(spices_random)\n",
    "        elif product_category == 'vegetable':\n",
    "            product_name = g.food.vegetable()\n",
    "            vegetable_random = [f'Healthy {product_name} vegetables', f'{product_name} perfect for vegetarians', f'Fully Green {product_name}']\n",
    "            product_keyword = g.random.choice(vegetable_random)\n",
    "\n",
    "        # To Generate The Statistics Random Number (for Int and Float)\n",
    "        class MyRandomNumber(BaseProvider):\n",
    "            class Meta:\n",
    "                name = 'randomNumber'\n",
    "            \n",
    "            # 4. Random Outcome $\n",
    "            def random_outcome(self):\n",
    "                return self.random.randint(0, 20000)\n",
    "\n",
    "            # 5. Random Income $\n",
    "            def random_income(self):\n",
    "                return self.random.randint(30000, 500000)\n",
    "\n",
    "            # 9. Show on Top Page\n",
    "            def random_topPage(self):\n",
    "                return self.random.randint(0, 300)\n",
    "\n",
    "            # 10. Views\n",
    "            def random_view(self):\n",
    "                return self.random.randint(0, 700)\n",
    "            \n",
    "            # 11. Click\n",
    "            def random_click(self):\n",
    "                return self.random.randint(0, 10)\n",
    "            \n",
    "            # 14. Total Sold (chance 70% generate Zero '0')\n",
    "            def random_totalSold(self):\n",
    "                if random.random() < 0.7: # 70% chance\n",
    "                    return 0\n",
    "                else:\n",
    "                    return self.random.randint(0, 10)\n",
    "\n",
    "            # 13. Sold (chance 85% generate Zero '0')\n",
    "                # if 'total sold' = 0, 100% it generates Zero '0',\n",
    "                # if 'total sold' > 0, 10% chance 'sold' column generates 1 or 2 in value,\n",
    "                # and 2% chance generates the equal value as 'total sold' column.\n",
    "            def random_sold(self, total_sold):\n",
    "                if total_sold == 0:\n",
    "                    return 0 # 100% zero if total sold is 0\n",
    "                \n",
    "                chance = random.random()\n",
    "                if chance < 0.10: # 10% chance generate 1 or 2\n",
    "                    return self.random.randint(1, 2)\n",
    "                elif chance < 0.12: # Next 2% chance (from 10% to 12%) equal to total sold column\n",
    "                    return total_sold\n",
    "                else:\n",
    "                    return 0 # remaining 88% chance is 0\n",
    "\n",
    "            # For Float (Decimals)\n",
    "            #def random_float(self):\n",
    "                #return round(self.random.uniform(0.00, 100.00),2)\n",
    "\n",
    "        # Give each random Integer Statistics with Variables\n",
    "        statistics = MyRandomNumber()\n",
    "        outcome = statistics.random_outcome()\n",
    "        income = statistics.random_income()\n",
    "        topPage = statistics.random_topPage()\n",
    "        view = statistics.random_view()\n",
    "        click = statistics.random_click()\n",
    "        totalSold = statistics.random_totalSold()\n",
    "        sold = statistics.random_sold(totalSold)\n",
    "\n",
    "        # To Calculate particular Numbers (Example: Click Percentage)\n",
    "        # 6. Ads Effectiveness in Total\n",
    "        try:\n",
    "            adsEffectivenessInTotal = round(income / outcome)\n",
    "        except ZeroDivisionError:\n",
    "            adsEffectivenessInTotal = 0\n",
    "        # 7. Ads Effectiveness\n",
    "        if adsEffectivenessInTotal > 0:\n",
    "            adsEffectiveness = adsEffectivenessInTotal\n",
    "        else:\n",
    "            adsEffectiveness = 0\n",
    "        # 8. Performance\n",
    "        performance = round(topPage / view)\n",
    "        # 12. Click Percentage\n",
    "        try:\n",
    "            clickPercentage = round(float((click / view) * 100),2)\n",
    "        except ZeroDivisionError:\n",
    "            clickPercentage = 0\n",
    "        # 15. Percentage Sold\n",
    "        try:\n",
    "            percentageSold = round(float(totalSold / click))\n",
    "        except ZeroDivisionError:\n",
    "            percentageSold = 0\n",
    "        # 16. Average\n",
    "        try:\n",
    "            average = round(outcome / click)\n",
    "        except ZeroDivisionError:\n",
    "            average = 0\n",
    "\n",
    "        writer.writerow([i, product_category, product_name, outcome, income, adsEffectivenessInTotal, adsEffectiveness, performance, topPage, view, click, clickPercentage, sold, totalSold, percentageSold, average])\n",
    "\n",
    "print(os.getcwd())\n",
    "print(\"✅ CSV file '1_hasil_laporan_iklan_platform_a_table.csv' has been created successfully!\")"
   ]
  },
  {
   "cell_type": "markdown",
   "id": "d72a02ca",
   "metadata": {},
   "source": [
    "\n",
    "## 4 - Kelompok Iklan Platform B"
   ]
  },
  {
   "cell_type": "markdown",
   "id": "dbeba8a6",
   "metadata": {},
   "source": [
    "Sekumpulan Tabel dari Hasil Laporan Iklan Platform B"
   ]
  }
 ],
 "metadata": {
  "kernelspec": {
   "display_name": "Python 3",
   "language": "python",
   "name": "python3"
  },
  "language_info": {
   "codemirror_mode": {
    "name": "ipython",
    "version": 3
   },
   "file_extension": ".py",
   "mimetype": "text/x-python",
   "name": "python",
   "nbconvert_exporter": "python",
   "pygments_lexer": "ipython3",
   "version": "3.11.3"
  }
 },
 "nbformat": 4,
 "nbformat_minor": 5
}
